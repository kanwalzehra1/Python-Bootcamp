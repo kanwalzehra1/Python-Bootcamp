{
 "cells": [
  {
   "cell_type": "markdown",
   "metadata": {},
   "source": [
    "# Assignment 2\n",
    "Instructions\n",
    "Complete all the exercises below. Each section corresponds to the concepts covered in class. Write your code in the designated cells and test your solutions."
   ]
  },
  {
   "cell_type": "markdown",
   "metadata": {},
   "source": [
    "Exercise 1: Shopping List Calculator <br>\n",
    "Topics Covered: Lists, Input, Arithmetic Operators, Strings, Print, Type Casting\n",
    "\n",
    "Task:\n",
    "\n",
    "Write a program that:\n",
    "\n",
    "- Asks the user to input the names and prices of 3 items (names as strings, prices as strings converted to floats using type casting).\n",
    "- Stores these in a list of sublists, e.g., [[\"apple\", 0.5], [\"bread\", 1.2], [\"milk\", 2.0]].\n",
    "- Calculates the total cost by directly accessing list elements (e.g., list[0][1]) with arithmetic operators.\n",
    "- Prints each item and its price (e.g., \"Item: apple - Price: $0.50\") and the total cost in a formatted way using the print() function.\n",
    "\n",
    "Bonus Challenge:\n",
    "Ask the user for a tax rate (e.g., 5%) as input, convert it to a float, and add the tax amount to the total (tax = total * (rate / 100))."
   ]
  },
  {
   "cell_type": "code",
   "execution_count": null,
   "metadata": {},
   "outputs": [
    {
     "name": "stdout",
     "output_type": "stream",
     "text": [
      "Item:cup and Price:$20.0\n",
      "Item:box and Price:$60.0\n",
      "Item:iron and Price:$50.0\n",
      "130.0\n",
      "10.0\n",
      "The Total Cost of above item is: $143.0\n"
     ]
    }
   ],
   "source": [
    "item_list_1 = [input('Enter First Item') , input('Enter Second Item') , input('Enter Third Item')]\n",
    "price_list_1 = [float(input('Price of First item')),  float(input('Price of Second item')) ,  float(input('Price of Third item'))]\n",
    "print(f'Item:{item_list_1[0]} and Price:${price_list_1[0]}')\n",
    "print(f'Item:{item_list_1[1]} and Price:${price_list_1[1]}')\n",
    "print(f'Item:{item_list_1[2]} and Price:${price_list_1[2]}')\n",
    "cost = price_list_1[0] + price_list_1[1] + price_list_1[2]\n",
    "#print(cost)\n",
    "tax_rate = float(input('Enter Tax Amount'))\n",
    "#print(tax_rate)\n",
    "tax = cost*(tax_rate/100)\n",
    "total_cost = cost + tax\n",
    "print(f'The Total Cost of above item is: ${total_cost}')\n",
    "\n",
    "\n"
   ]
  },
  {
   "cell_type": "markdown",
   "metadata": {},
   "source": [
    "Exercise 2: Student Grade Manager <br>\n",
    "Topics Covered: Lists, List Methods, Indexing, Input, Type Casting, Variables, Print\n",
    "\n",
    "Task:\n",
    "\n",
    "Write a program that:\n",
    "\n",
    "- Creates a list called grades with exactly 3 predefined scores (e.g., [85.5, 90.0, 78.5]).\n",
    "- Asks the user to input 1 additional score (as a string, converted to a float) and adds it to the list using the append() method.\n",
    "- Uses indexing to print the first score and the last score.\n",
    "- Calculates the average of the 4 scores by adding them with arithmetic operators and dividing by 4.\n",
    "- Uses the sort() method to sort the list and prints the sorted list.\n",
    "\n",
    "Bonus Challenge:\n",
    "Use the insert() method to add a bonus score of 5.0 at the start of the list and print the updated list."
   ]
  },
  {
   "cell_type": "code",
   "execution_count": null,
   "metadata": {},
   "outputs": [
    {
     "name": "stdout",
     "output_type": "stream",
     "text": [
      "[85.5, 90.0, 78.5, 60.0]\n",
      "85.5 60.0\n",
      "78.5\n",
      "[60.0, 78.5, 85.5, 90.0]\n",
      "[5, 60.0, 78.5, 85.5, 90.0]\n"
     ]
    }
   ],
   "source": [
    "grade = [85.5 , 90.0 , 78.5]\n",
    "user_input = float(input('Add score'))\n",
    "grade.append(user_input)\n",
    "print (grade)\n",
    "print(grade[0] , grade[-1])\n",
    "average = (grade[0] + grade[1] + grade [2] + grade[3]) / 4\n",
    "print(average)\n",
    "grade.sort()\n",
    "print(grade)\n",
    "grade.insert(0 ,5)\n",
    "print(grade)"
   ]
  },
  {
   "cell_type": "markdown",
   "metadata": {},
   "source": [
    "Exercise 3: Word Slicer <br>\n",
    "Topics Covered: Strings, Lists, Slicing, Indexing, Input, Print, Datatypes\n",
    "\n",
    "Task:\n",
    "\n",
    "Write a program that:\n",
    "\n",
    "- Asks the user to input a sentence with at least 4 words (e.g., \"I love to code\").\n",
    "- Converts the sentence into a list of words using the split() method.\n",
    "- Uses slicing to print:\n",
    "- The first 2 words.\n",
    "- The last 2 words.\n",
    "- Uses indexing to print the third word.\n",
    "- Prints the total number of words using len() and the datatype of the list using type().\n",
    "\n",
    "Bonus Challenge:\n",
    "Create a new string by concatenating the first and last words from the list (e.g., \"I code\") and print it."
   ]
  },
  {
   "cell_type": "code",
   "execution_count": 7,
   "metadata": {},
   "outputs": [
    {
     "name": "stdout",
     "output_type": "stream",
     "text": [
      " i love my baby\n",
      "['i', 'love', 'my', 'baby']\n",
      "['i', 'love']\n",
      "['my', 'baby']\n",
      "my\n",
      "4\n",
      "<class 'list'>\n",
      "First word is i and last word is baby\n"
     ]
    }
   ],
   "source": [
    "user_input = input('Enter a sentence using 4 words')\n",
    "print(user_input)\n",
    "sentence = user_input.split()\n",
    "print(sentence)\n",
    "print(sentence[:2])\n",
    "print(sentence[-2:])\n",
    "print(sentence[2])\n",
    "total_num = len(sentence)\n",
    "print(total_num)\n",
    "print(type(sentence))\n",
    "first_word = sentence[0] \n",
    "last_word = sentence[-1]\n",
    "print(f'First word is {first_word} and last word is {last_word}')\n"
   ]
  },
  {
   "cell_type": "markdown",
   "metadata": {},
   "source": [
    "Exercise 4: Name Analyzer <br>\n",
    "Topics Covered: Strings, Lists, Slicing, Indexing, Input, Print, List Methods\n",
    "\n",
    "Task:\n",
    "\n",
    "Write a program that:\n",
    "\n",
    "- Asks the user to input a full name with exactly 3 parts (e.g., \"John Adam Smith\").\n",
    "- Splits the name into a list of individual names using split().\n",
    "- Uses indexing to print the first name and last name.\n",
    "- Uses slicing to print the middle name.\n",
    "- Creates a new list with the lengths of each name (e.g., [len(names[0])]) and prints it.\n",
    "- Calculates and prints the total number of characters by adding the lengths.\n",
    "\n",
    "Bonus Challenge:\n",
    "Use the pop() method to remove the middle name and print the updated list (e.g., [\"John\", \"Smith\"])."
   ]
  },
  {
   "cell_type": "code",
   "execution_count": 8,
   "metadata": {},
   "outputs": [
    {
     "name": "stdout",
     "output_type": "stream",
     "text": [
      "sadiq noorani\n",
      "raza\n",
      "[5, 4, 7]\n",
      "16\n",
      "['sadiq', 'noorani']\n"
     ]
    }
   ],
   "source": [
    "user_input = input('Enter Your Full Name Using 3 Words')\n",
    "full_name = user_input.split()\n",
    "print(full_name[0] , full_name[-1])\n",
    "print(full_name[1])\n",
    "print([len(full_name[0]),len(full_name[1]),len(full_name[2])])\n",
    "total_char = len(full_name[0]) + len(full_name[1]) + len(full_name[2])\n",
    "print(total_char)\n",
    "full_name.pop(1)\n",
    "print(full_name)"
   ]
  },
  {
   "cell_type": "markdown",
   "metadata": {},
   "source": [
    "Exercise 5: Employee Database Manager <br>\n",
    "Topics Covered: Dictionaries with Lists as Values, Dictionary Methods, List Operations, Sorting\n",
    "Task:\n",
    "Write a program that:\n",
    "\n",
    "- Creates a dictionary called employee_data with keys \"names\", \"departments\", and \"salaries\" where values are lists (e.g., {\"names\": [\"Alice\", \"Bob\", \"Carol\"], \"departments\": [\"IT\", \"HR\", \"Finance\"], \"salaries\": [75000, 65000, 80000]}).\n",
    "- Asks the user to input a new employee name and appends it to the \"names\" list.\n",
    "- Convert the dictionary keys to a list and prints it.\n",
    "- Sorts the names list using and prints the updated dictionary.\n",
    "- Uses indexing to print the first employee's name and salary.\n",
    "- Converts .values() to a list and prints the total number of data categories\n",
    "\n",
    "Bonus Challenge: \n",
    "Create a sorted list of department keys using sorted(list(employee_data.keys())) and print it."
   ]
  },
  {
   "cell_type": "code",
   "execution_count": 32,
   "metadata": {},
   "outputs": [
    {
     "name": "stdout",
     "output_type": "stream",
     "text": [
      "{'names': ['Alice', 'Bob', 'Carol', 'Sadiq'], 'departments': ['IT', 'HR', 'Finance'], 'salaries': [75000, 65000, 80000]}\n",
      "['names', 'departments', 'salaries']\n",
      "{'names': ['Alice', 'Bob', 'Carol', 'Sadiq'], 'departments': ['IT', 'HR', 'Finance'], 'salaries': [75000, 65000, 80000]}\n",
      "Alice IT 75000\n"
     ]
    },
    {
     "data": {
      "text/plain": [
       "3"
      ]
     },
     "execution_count": 32,
     "metadata": {},
     "output_type": "execute_result"
    }
   ],
   "source": [
    "employee_data = {'names' : ['Alice' , 'Bob' , 'Carol'],\n",
    "               'departments' : ['IT' , 'HR' , 'Finance'],\n",
    "               'salaries' : [75000, 65000 , 80000]}\n",
    "new_employee = input('Enter Your Name')\n",
    "employee_data['names'].append(new_employee)\n",
    "print(employee_data)\n",
    "employee_list = list(employee_data.keys())\n",
    "print(employee_list)\n",
    "employee_data['names'].sort()\n",
    "print(employee_data)\n",
    "print(employee_data['names'][0] , employee_data['departments'][0] , employee_data['salaries'][0])\n",
    "value_list = list(employee_data.values())\n",
    "len(value_list)\n",
    "\n"
   ]
  },
  {
   "cell_type": "markdown",
   "metadata": {},
   "source": [
    "Exercise 6: Student Course Tracker <br>\n",
    "Topics Covered: Dictionaries, Input, Dictionary Methods, String Operations, Conditional Logic\n",
    "Task:\n",
    "Write a program that:\n",
    "\n",
    "- Creates a dictionary called library_books with keys \"title\", \"author\", \"isbn\", and \"available\" with initial values (e.g., {\"title\": \"1984\", \"author\": \"George Orwell\", \"isbn\": \"978-0451524935\", \"available\": True}).\n",
    "- Asks the user to input a new ISBN number and updates the \"isbn\" value in the dictionary.\n",
    "- Uses the get() method to safely retrieve and print the \"author\" value, with a default message if the key doesn't exist.\n",
    "- Toggles the \"available\" status from True to False (or vice versa) using indexing.\n",
    "- Uses the pop() method to remove and print the \"isbn\" key-value pair.\n",
    "- Prints the final dictionary using items() method in a formatted way.\n",
    "\n",
    "Bonus Challenge: \n",
    "Ask the user if they want to add a \"genre\" key, and if yes, prompt for input and add it to the dictionary using setdefault() method.\n",
    "\n",
    "Reference: https://www.w3schools.com/python/python_ref_dictionary.asp"
   ]
  },
  {
   "cell_type": "code",
   "execution_count": 31,
   "metadata": {},
   "outputs": [
    {
     "name": "stdout",
     "output_type": "stream",
     "text": [
      "{'title': 1984, 'author': 'George Orwell', 'isbn': '748596', 'available': True}\n",
      "This key does not exist\n",
      "George Orwell\n",
      "{'title': 1984, 'author': 'George Orwell', 'isbn': '748596', 'available': False}\n",
      "isbn: 748596\n",
      "final dictionary would be dict_items([('title', 1984), ('author', 'George Orwell'), ('available', False)])\n",
      "{'title': 1984, 'author': 'George Orwell', 'available': False, 'Genre': 'enflish'}\n"
     ]
    }
   ],
   "source": [
    "library_books = {'title' : 1984 , \n",
    "                 'author' : 'George Orwell' ,\n",
    "                 'isbn' : '978-0451524935' ,\n",
    "                 'available' : True}\n",
    "#print(library_books)\n",
    "user_input = input('Enter ISBN Number')\n",
    "library_books['isbn']= user_input\n",
    "print(library_books)\n",
    "author_value = library_books.get('Poet')\n",
    "print('This key does not exist')\n",
    "print(library_books['author'])\n",
    "library_books['available'] = not library_books['available']\n",
    "print(library_books)\n",
    "popped_isbn = library_books.pop('isbn')\n",
    "print('isbn:' , popped_isbn)\n",
    "final_dict = library_books.items()\n",
    "print(f'final dictionary would be {final_dict}')\n",
    "genre = input('Do u want to add genre?')\n",
    "if genre == 'yes':\n",
    "   genre_value = input('Add genre')\n",
    "   library_books.setdefault('Genre' , genre_value)\n",
    "   print(library_books)\n",
    "else:\n",
    "   print('No Genre Found')\n"
   ]
  },
  {
   "cell_type": "markdown",
   "metadata": {},
   "source": []
  },
  {
   "cell_type": "markdown",
   "metadata": {},
   "source": [
    "Exercise 7: Restaurant Order System <br>\n",
    "Topics Covered: Dictionaries with Lists, List Indexing, Dictionary Methods, Sorting\n",
    "Task:\n",
    "Write a program that:\n",
    "\n",
    "- Creates a dictionary called orders with keys \"items\", \"quantities\", and \"prices\" where values are lists (e.g., {\"items\": [\"Pizza\", \"Burger\", \"Salad\"], \"quantities\": [2, 1, 3], \"prices\": [12.99, 8.50, 6.75]}).\n",
    "- Add a new item to the orders.\n",
    "- Get all keys as a list and prints the first key using indexing.\n",
    "- Accesses and prints the third item and its quantity using indexing\n",
    "- Converts the .values() method to a list and prints it.\n",
    "- Sorts the items list and prints the updated dictionary.\n",
    "\n",
    "Bonus Challenge: \n",
    "Create a sorted list of all keys"
   ]
  },
  {
   "cell_type": "code",
   "execution_count": 51,
   "metadata": {},
   "outputs": [
    {
     "name": "stdout",
     "output_type": "stream",
     "text": [
      "items\n",
      "Salad 3\n",
      "{'items': ['Burger', 'Cold Drinks', 'Pizza', 'Salad'], 'quantities': [2, 1, 3], 'prices': [12.99, 8.5, 6.75]}\n",
      "['items', 'prices', 'quantities']\n"
     ]
    }
   ],
   "source": [
    "orders = {'items' : ['Pizza' , 'Burger' ,'Salad'],\n",
    "          'quantities' : [2 , 1 , 3],\n",
    "          'prices' : [12.99 , 8.50 , 6.75]}\n",
    "orders['items'].append('Cold Drinks')\n",
    "#print(orders)\n",
    "menu_list = list(orders.keys())\n",
    "#print(menu_list)\n",
    "print(menu_list[0])\n",
    "print(orders['items'][2] , orders['quantities'][2])\n",
    "orders['items'].sort()\n",
    "print(orders)\n",
    "sorted_keys = sorted(menu_list)\n",
    "print(sorted_keys)\n"
   ]
  }
 ],
 "metadata": {
  "kernelspec": {
   "display_name": ".venv",
   "language": "python",
   "name": "python3"
  },
  "language_info": {
   "codemirror_mode": {
    "name": "ipython",
    "version": 3
   },
   "file_extension": ".py",
   "mimetype": "text/x-python",
   "name": "python",
   "nbconvert_exporter": "python",
   "pygments_lexer": "ipython3",
   "version": "3.11.9"
  },
  "orig_nbformat": 4
 },
 "nbformat": 4,
 "nbformat_minor": 2
}
